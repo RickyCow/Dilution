{
  "cells": [
    {
      "cell_type": "markdown",
      "metadata": {
        "id": "484-qqwKmDyP"
      },
      "source": [
        "# Instructions for these exercises\n",
        "> ## You are welcome to use any of the methods/scripts discussed in the demos. These exercises can be implemented in more than one way. Use whichever one works for you!\n",
        "> ## Attempt as many of the following as you can. Do not worry if the last exercise, for example, doesn't work.\n",
        ">\n",
        "> ## Please add comments/discussion to your code to explain what you've done. Spanish is fine!\n",
        ">\n",
        "> ## When you are done, save this notebook (File --> Download --> Download .ipynb) and attach the document as your submission to the Moodle platform.\n",
        "> ### Instructions on how to do this: [in English](https://www.youtube.com/watch?v=pRWA9XoTIJQ) and [en Español](https://www.youtube.com/watch?v=Xi5fJYEtCV8).\n",
        "---\n",
        "\n",
        "\n",
        "## ADQL resources:\n",
        ">\n",
        "1.   The [ADQL cookbook](https://www.gaia.ac.uk/data/gaia-data-release-1/adql-cookbook) hosted by the UK Gaia collaboration\n",
        "2.   The NAVO workshop (Github repository with Python notebooks [here](https://github.com/nasa-navo/navo-workshop), video [here](https://www.youtube.com/watch?v=fIvTQ2iZscU))\n",
        "3.   SIMBAD's [ADQL cheatsheet] (http://simbad.u-strasbg.fr/simbad/tap/help/adqlHelp.html). You can also check out some of their examples [here] (http://simbad.u-strasbg.fr/simbad/sim-tap) (click on the dropdown menu under \"ADQL QUERY TO EXECUTE (or choose an example)\").\n",
        "4.   Vizier's [ADQL cheatsheet] (http://tapvizier.u-strasbg.fr/adql/help.html)"
      ]
    },
    {
      "cell_type": "code",
      "execution_count": null,
      "metadata": {
        "colab": {
          "base_uri": "https://localhost:8080/"
        },
        "id": "3jYzBh1QuNFq",
        "outputId": "c3864de3-4713-4d0f-beeb-fc842a67c4f8"
      },
      "outputs": [
        {
          "name": "stdout",
          "output_type": "stream",
          "text": [
            "Collecting pyvo\n",
            "  Downloading pyvo-1.1-py3-none-any.whl (802 kB)\n",
            "\u001b[K     |████████████████████████████████| 802 kB 4.9 MB/s \n",
            "\u001b[?25hRequirement already satisfied: astropy in /usr/local/lib/python3.7/dist-packages (from pyvo) (4.2.1)\n",
            "Requirement already satisfied: requests in /usr/local/lib/python3.7/dist-packages (from pyvo) (2.23.0)\n",
            "Collecting mimeparse\n",
            "  Downloading mimeparse-0.1.3.tar.gz (4.4 kB)\n",
            "Requirement already satisfied: numpy>=1.17 in /usr/local/lib/python3.7/dist-packages (from astropy->pyvo) (1.19.5)\n",
            "Requirement already satisfied: pyerfa in /usr/local/lib/python3.7/dist-packages (from astropy->pyvo) (2.0.0)\n",
            "Requirement already satisfied: urllib3!=1.25.0,!=1.25.1,<1.26,>=1.21.1 in /usr/local/lib/python3.7/dist-packages (from requests->pyvo) (1.24.3)\n",
            "Requirement already satisfied: chardet<4,>=3.0.2 in /usr/local/lib/python3.7/dist-packages (from requests->pyvo) (3.0.4)\n",
            "Requirement already satisfied: idna<3,>=2.5 in /usr/local/lib/python3.7/dist-packages (from requests->pyvo) (2.10)\n",
            "Requirement already satisfied: certifi>=2017.4.17 in /usr/local/lib/python3.7/dist-packages (from requests->pyvo) (2021.5.30)\n",
            "Building wheels for collected packages: mimeparse\n",
            "  Building wheel for mimeparse (setup.py) ... \u001b[?25l\u001b[?25hdone\n",
            "  Created wheel for mimeparse: filename=mimeparse-0.1.3-py3-none-any.whl size=3864 sha256=080738b56ad21b8bc7d0d330ff9235b28e87e3e8f32a88f4f8e3b0a0dfd0e2e7\n",
            "  Stored in directory: /root/.cache/pip/wheels/49/b4/2d/0081759ae1833bd694024801f7aacddcda8a687e8d5fbaeebd\n",
            "Successfully built mimeparse\n",
            "Installing collected packages: mimeparse, pyvo\n",
            "Successfully installed mimeparse-0.1.3 pyvo-1.1\n"
          ]
        },
        {
          "name": "stderr",
          "output_type": "stream",
          "text": [
            "WARNING: UnknownElementWarning: None:3:1106: UnknownElementWarning: Unknown element mirrorURL [pyvo.utils.xml.elements]\n",
            "WARNING: UnknownElementWarning: None:125:4415: UnknownElementWarning: Unknown element mirrorURL [pyvo.utils.xml.elements]\n",
            "WARNING: UnknownElementWarning: None:125:4732: UnknownElementWarning: Unknown element mirrorURL [pyvo.utils.xml.elements]\n",
            "WARNING: UnknownElementWarning: None:125:5044: UnknownElementWarning: Unknown element mirrorURL [pyvo.utils.xml.elements]\n",
            "WARNING: UnknownElementWarning: None:125:5344: UnknownElementWarning: Unknown element mirrorURL [pyvo.utils.xml.elements]\n",
            "WARNING: UnknownElementWarning: None:3:1106: UnknownElementWarning: Unknown element mirrorURL [pyvo.utils.xml.elements]\n",
            "WARNING: UnknownElementWarning: None:125:4415: UnknownElementWarning: Unknown element mirrorURL [pyvo.utils.xml.elements]\n",
            "WARNING: UnknownElementWarning: None:125:4732: UnknownElementWarning: Unknown element mirrorURL [pyvo.utils.xml.elements]\n",
            "WARNING: UnknownElementWarning: None:125:5044: UnknownElementWarning: Unknown element mirrorURL [pyvo.utils.xml.elements]\n",
            "WARNING: UnknownElementWarning: None:125:5344: UnknownElementWarning: Unknown element mirrorURL [pyvo.utils.xml.elements]\n"
          ]
        }
      ],
      "source": [
        "# Some basics are installed/imported for you\n",
        "try:\n",
        "  import pyvo as vo\n",
        "except ImportError:\n",
        "  %pip install pyvo\n",
        "  import pyvo as vo\n",
        "\n",
        "import numpy as np\n",
        "\n",
        "r = vo.regsearch(servicetype = 'tap', keywords = ['Simbad'])\n",
        "SIMBAD_service = r[0].service\n",
        "\n",
        "r = vo.regsearch(servicetype = 'tap', keywords = ['Vizier'])\n",
        "# There are two servers, the backup server doesn't allow uploads. Choose the correct one.\n",
        "k = int(np.nonzero(['obstap' not in rr['ivoid'] for rr in r])[0]) # avoid the column corresponding to the url that doesn't accept uploads\n",
        "Vizier_service = r[k].service\n",
        "\n",
        "from io import BytesIO\n",
        "from astropy.io import votable"
      ]
    },
    {
      "cell_type": "markdown",
      "metadata": {
        "id": "lPHQkkeyppGV"
      },
      "source": [
        "# 1. Find the SIMBAD entry for the globular cluster \"omega Centauri\"\n",
        "> ### Columns to retrieve: `RA`, `DEC`, `main_id`, and `oid`\n",
        "> ### Print out the main identifer (`main_id`). Note that it is not \"omega Centauri\"."
      ]
    },
    {
      "cell_type": "code",
      "execution_count": null,
      "metadata": {
        "colab": {
          "background_save": true,
          "base_uri": "https://localhost:8080/"
        },
        "id": "8EZEsQpSg4fL",
        "outputId": "2118e2b6-57c9-49a3-8eaa-ae7a80d3fd29"
      },
      "outputs": [
        {
          "name": "stdout",
          "output_type": "stream",
          "text": [
            "The SIMBAD main identifier for the cluster is NGC  5139\n"
          ]
        },
        {
          "data": {
            "text/html": [
              "<i>Table length=1</i>\n",
              "<table id=\"table140012482764560\" class=\"table-striped table-bordered table-condensed\">\n",
              "<thead><tr><th>oid</th><th>ra</th><th>dec</th><th>main_id</th></tr></thead>\n",
              "<thead><tr><th></th><th>deg</th><th>deg</th><th></th></tr></thead>\n",
              "<thead><tr><th>int64</th><th>float64</th><th>float64</th><th>object</th></tr></thead>\n",
              "<tr><td>3375707</td><td>201.697</td><td>-47.47947222222223</td><td>NGC  5139</td></tr>\n",
              "</table>"
            ],
            "text/plain": [
              "<Table length=1>\n",
              "  oid      ra          dec          main_id \n",
              "          deg          deg                  \n",
              " int64  float64      float64         object \n",
              "------- ------- ------------------ ---------\n",
              "3375707 201.697 -47.47947222222223 NGC  5139"
            ]
          },
          "execution_count": null,
          "metadata": {},
          "output_type": "execute_result"
        }
      ],
      "source": [
        "# Fill in the appropriate query here\n",
        "query = \"\"\"\n",
        "SELECT basic.OID,\n",
        "       RA,\n",
        "       DEC,\n",
        "       main_id\n",
        "FROM basic JOIN ident ON oidref = oid\n",
        "WHERE id = 'omega Centauri'\n",
        "\"\"\"\n",
        "\n",
        "result1 = SIMBAD_service.search(query).to_table()\n",
        "print(\"The SIMBAD main identifier for the cluster is {}\".format(result1['main_id'][0]))\n",
        "result"
      ]
    },
    {
      "cell_type": "markdown",
      "metadata": {
        "id": "7MmEWSJYhiQe"
      },
      "source": [
        "# 2a. Do a bibliography search and find the most recent paper that studied the Cluster\n",
        "> ### Specifically, find the latest paper that has the phrases \"tidal radius\" and \"%omega%Cen\" in its `abstract`.\n",
        "> ### The query should extract all the information necessary to construct a URL to the paper's entry on the ADS (see example in Demo Session 2)."
      ]
    },
    {
      "cell_type": "code",
      "execution_count": null,
      "metadata": {
        "colab": {
          "base_uri": "https://localhost:8080/"
        },
        "id": "4LthItd5hv1z",
        "outputId": "db077c2c-2044-4563-e875-0bb6cab6eeb7"
      },
      "outputs": [
        {
          "name": "stdout",
          "output_type": "stream",
          "text": [
            "The url is https://ui.adsabs.harvard.edu/abs/2017AJ....153..175C\n"
          ]
        }
      ],
      "source": [
        "# Fill in the appropriate query here\n",
        "query = \"\"\"\n",
        "SELECT TOP 1 bibcode\n",
        "FROM ref\n",
        "WHERE abstract LIKE '%omega%Cen%' AND abstract LIKE '%tidal radius%'\n",
        "ORDER BY \"year\" DESC\n",
        "\"\"\"\n",
        "\n",
        "result2 = SIMBAD_service.search(query).to_table()\n",
        "print(\"The url is https://ui.adsabs.harvard.edu/abs/{}\".format(result2['bibcode'][0]))"
      ]
    },
    {
      "cell_type": "markdown",
      "metadata": {
        "id": "g3RP49PAiYbs"
      },
      "source": [
        "# 2b. Finding the tidal radius (approximate angular size) of the cluster\n",
        "> ### Follow the URL to the PDF of the most recent paper. Consult Table 1 of the paper. Here, you will find the value of the tidal radius of the cluster in arcmin.\n",
        "> ### Change the value of the variable `radius_arcmin` to the appropriate value below\n",
        "> ### If you couldn't find the tidal radius, let `` be set to 60 arcmin as below."
      ]
    },
    {
      "cell_type": "code",
      "execution_count": null,
      "metadata": {
        "id": "MXRk64RCiWrh"
      },
      "outputs": [],
      "source": [
        "#Note that the step of finding the tidal radius is MANUAL! This is the only manual step in the exercises.\n",
        "radius_arcmin = 57.03 # Change this to the radius you find it in Table 1 of the paper\n",
        "radius_deg = str(radius_arcmin / 60.)"
      ]
    },
    {
      "cell_type": "markdown",
      "metadata": {
        "id": "g11B4owxjNTW"
      },
      "source": [
        "# 3. Perform a cone search for C-, M-, or K-type stars within `radius_deg` of the cluster centre.\n",
        "> ### Columns to retrieve: `oid`, `main_id`, and `sp_type` (spectral type of all the stars within the matching radius).\n",
        "> ### Hint: check that stars are within the radius using `CONTAINS`, AND restrict their spectral types with `(sp_type LIKE 'K%' or sp_type LIKE 'C%' or sp_type LIKE 'M%')`\n",
        ">\n",
        "> ### How many sources are in your final table?"
      ]
    },
    {
      "cell_type": "code",
      "execution_count": null,
      "metadata": {
        "colab": {
          "base_uri": "https://localhost:8080/"
        },
        "id": "FeZHqbjSjK9J",
        "outputId": "91a5bd35-ac97-47b9-d71b-c32c2b5a6ca5"
      },
      "outputs": [
        {
          "data": {
            "text/plain": [
              "50000"
            ]
          },
          "execution_count": 33,
          "metadata": {
            "tags": []
          },
          "output_type": "execute_result"
        }
      ],
      "source": [
        "# Fill in the appropriate query here\n",
        "query = \"\"\"\n",
        "SELECT oid, main_id, sp_type\n",
        "FROM basic\n",
        "WHERE CONTAINS(POINT('ICRS', RA, DEC), CIRCLE('ICRS', 201.697, -47.47947222222223, \"\"\" + radius_deg + \"\"\")) = 1\n",
        "AND sp_type LIKE 'K%' OR sp_type LIKE 'C%' OR sp_type LIKE 'M%'\n",
        "\"\"\"\n",
        "\n",
        "result3 = SIMBAD_service.search(query).to_table()\n",
        "# write code below to tell me how many sources there are in result3\n",
        "len(result3)"
      ]
    },
    {
      "cell_type": "markdown",
      "metadata": {
        "id": "rRCBzvUKlPJF"
      },
      "source": [
        "# 4. Find the 2MASS counterparts, if available, for each source\n",
        "> ### Check SIMBAD's `ident` table to see if the `oid` corresponding to each row in `result3` has a counterpart in the 2MASS All-Sky Point Source Catalogue.\n",
        "> ### Hint: for each `oid`, find the row in `ident` such that `ident.id` starts WITH '2MASS J'\n",
        ">\n",
        "> ### How many sources from `result3` do NOT have 2MASS counterparts?"
      ]
    },
    {
      "cell_type": "code",
      "execution_count": null,
      "metadata": {
        "id": "sbDO5vnhlQWA"
      },
      "outputs": [],
      "source": [
        "# Fill in the appropriate query here\n",
        "# Collect the 2MASS identifiers into a column named `TMASS_ID`\n",
        "query = \"\"\"\n",
        "\n",
        "\"\"\"\n",
        "\n",
        "# results3 is now uploaded to the SIMBAD TAP server as `mytable`, and it should\n",
        "# be used in the query above.\n",
        "votable_object = BytesIO()\n",
        "votable.writeto(votable.from_table(results3), votable_object)\n",
        "votable_object.seek(0)\n",
        "\n",
        "result4 = SIMBAD_service.search(query, uploads = {'mytable': votable_object}).to_table()\n",
        "\n",
        "# write code below to tell me how many sources from `results3` don't have 2MASS counterparts in `results4`.\n",
        "\n",
        "# Extra line: modify the 2MASS identifier column in `results4` to remove the \"2MASS J\" prefix\n",
        "#             This is done to correctly match the format in the 2MASS point-source catalogue table (see next cell)\n",
        "result4['TMASS_ID'] = [rr['TMASS_ID'].replace('2MASS J', '') for rr in result4]"
      ]
    },
    {
      "cell_type": "markdown",
      "metadata": {
        "id": "vAJHvB6hoBts"
      },
      "source": [
        "# 5. Obtain the 2MASS photometry from VizieR\n",
        "> ### Select the columns `magJ` and `magK` from the 2MASS point-source catalogue on VizieR (table ID: `'II/246/out'`)\n",
        "> ### Hint: for each `oid`, find the row in `'II/246/out'` such that `TMASS_ID` from `results4` is equal to `\"2MASS\"` in `'II/246/out'`"
      ]
    },
    {
      "cell_type": "code",
      "execution_count": null,
      "metadata": {
        "id": "OBz0BLBNoDSh"
      },
      "outputs": [],
      "source": [
        "Vizier_table_id = 'II/246/out'\n",
        "# Fill in the appropriate query here\n",
        "query = \"\"\"\n",
        "\n",
        "\"\"\"\n",
        "\n",
        "# results3 is now uploaded to the SIMBAD TAP server as `mytable`, and it should\n",
        "# be used in the query above.\n",
        "votable_object = BytesIO()\n",
        "votable.writeto(votable.from_table(results4), votable_object)\n",
        "votable_object.seek(0)\n",
        "\n",
        "result5 = Vizier_service.search(query, uploads = {'mytable': votable_object}).to_table()\n",
        "\n",
        "# write code below to plot a K vs J-K colour-magnitude diagram showing all the sources in result5.\n",
        "\n",
        "\n"
      ]
    }
  ],
  "metadata": {
    "colab": {
      "provenance": []
    },
    "kernelspec": {
      "display_name": "Python 3",
      "name": "python3"
    },
    "language_info": {
      "name": "python"
    }
  },
  "nbformat": 4,
  "nbformat_minor": 0
}
