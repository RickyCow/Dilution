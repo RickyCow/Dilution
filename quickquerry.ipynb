{
  "cells": [
    {
      "cell_type": "code",
      "execution_count": 1,
      "metadata": {
        "colab": {
          "base_uri": "https://localhost:8080/"
        },
        "id": "3jYzBh1QuNFq",
        "outputId": "c3864de3-4713-4d0f-beeb-fc842a67c4f8"
      },
      "outputs": [],
      "source": [
        "# Some basics are installed/imported for you\n",
        "try:\n",
        "  import pyvo as vo\n",
        "except ImportError:\n",
        "  %pip install pyvo\n",
        "  import pyvo as vo\n",
        "\n",
        "import numpy as np\n",
        "from astropy.table import Table\n",
        "import matplotlib as plt\n",
        "\n",
        "from io import BytesIO\n",
        "from astropy.io import votable\n",
        "\n",
        "import utils"
      ]
    },
    {
      "cell_type": "code",
      "execution_count": 2,
      "metadata": {},
      "outputs": [],
      "source": [
        "# Initiate the SIMBAD service\n",
        "r = utils.SIMBAD(vo)"
      ]
    },
    {
      "cell_type": "code",
      "execution_count": 3,
      "metadata": {},
      "outputs": [],
      "source": [
        "table = utils.table_info(r, 'basic')"
      ]
    },
    {
      "cell_type": "code",
      "execution_count": 4,
      "metadata": {},
      "outputs": [
        {
          "name": "stdout",
          "output_type": "stream",
          "text": [
            "Columns in basic table: ['coo_bibcode', 'coo_err_angle', 'coo_err_maj', 'coo_err_maj_prec', 'coo_err_min', 'coo_err_min_prec', 'coo_qual', 'coo_wavelength', 'dec_prec', 'galdim_angle', 'galdim_bibcode', 'galdim_majaxis', 'galdim_majaxis_prec', 'galdim_minaxis', 'galdim_minaxis_prec', 'galdim_qual', 'hpx', 'morph_bibcode', 'morph_qual', 'morph_type', 'nbref', 'oid', 'otype', 'plx_bibcode', 'plx_err', 'plx_err_prec', 'plx_prec', 'plx_qual', 'plx_value', 'pm_bibcode', 'pm_err_angle', 'pm_err_maj', 'pm_err_maj_prec', 'pm_err_min', 'pm_err_min_prec', 'pm_qual', 'pmdec', 'pmdec_prec', 'pmra', 'pmra_prec', 'ra_prec', 'rvz_bibcode', 'rvz_err', 'rvz_err_prec', 'rvz_nature', 'rvz_qual', 'rvz_radvel', 'rvz_radvel_prec', 'rvz_redshift', 'rvz_redshift_prec', 'rvz_type', 'sp_bibcode', 'sp_qual', 'sp_type', 'update_date', 'vlsr', 'vlsr_bibcode', 'vlsr_max', 'vlsr_min', 'vlsr_wavelength', 'main_id', 'otype_txt', 'ra', 'dec']\n"
          ]
        }
      ],
      "source": [
        "basic_cols = table.get_column_names()\n",
        "print('Columns in basic table:', basic_cols)"
      ]
    },
    {
      "cell_type": "markdown",
      "metadata": {},
      "source": [
        "Get unique values from a column given a table "
      ]
    },
    {
      "cell_type": "code",
      "execution_count": 6,
      "metadata": {},
      "outputs": [
        {
          "name": "stdout",
          "output_type": "stream",
          "text": [
            "50000\n"
          ]
        },
        {
          "name": "stderr",
          "output_type": "stream",
          "text": [
            "/Users/jarugula/opt/miniconda3/envs/astro-env/lib/python3.10/site-packages/pyvo/dal/query.py:322: DALOverflowWarning: Partial result set. Potential causes MAXREC, async storage space, etc.\n",
            "  warn(\"Partial result set. Potential causes MAXREC, async storage space, etc.\",\n"
          ]
        }
      ],
      "source": [
        "column_name = 'main_id'\n",
        "unique_cols = table.get_unique_values(column_name)\n",
        "print(len(unique_cols))"
      ]
    },
    {
      "cell_type": "code",
      "execution_count": null,
      "metadata": {},
      "outputs": [],
      "source": []
    },
    {
      "cell_type": "code",
      "execution_count": null,
      "metadata": {},
      "outputs": [],
      "source": []
    },
    {
      "cell_type": "code",
      "execution_count": null,
      "metadata": {},
      "outputs": [],
      "source": []
    },
    {
      "cell_type": "code",
      "execution_count": null,
      "metadata": {},
      "outputs": [],
      "source": []
    },
    {
      "cell_type": "markdown",
      "metadata": {
        "id": "lPHQkkeyppGV"
      },
      "source": [
        "# 1. Find the SIMBAD entry for the globular cluster \"omega Centauri\"\n",
        "> ### Columns to retrieve: `RA`, `DEC`, `main_id`, and `oid`\n",
        "> ### Print out the main identifer (`main_id`). Note that it is not \"omega Centauri\"."
      ]
    },
    {
      "cell_type": "code",
      "execution_count": 2,
      "metadata": {
        "colab": {
          "background_save": true,
          "base_uri": "https://localhost:8080/"
        },
        "id": "8EZEsQpSg4fL",
        "outputId": "2118e2b6-57c9-49a3-8eaa-ae7a80d3fd29"
      },
      "outputs": [
        {
          "name": "stdout",
          "output_type": "stream",
          "text": [
            "The SIMBAD main identifier for the cluster is NGC  5139\n"
          ]
        },
        {
          "data": {
            "text/html": [
              "<div><i>Table length=1</i>\n",
              "<table id=\"table4417514144\" class=\"table-striped table-bordered table-condensed\">\n",
              "<thead><tr><th>oid</th><th>ra</th><th>dec</th><th>main_id</th></tr></thead>\n",
              "<thead><tr><th></th><th>deg</th><th>deg</th><th></th></tr></thead>\n",
              "<thead><tr><th>int64</th><th>float64</th><th>float64</th><th>object</th></tr></thead>\n",
              "<tr><td>3375707</td><td>201.69699999999997</td><td>-47.47947222222223</td><td>NGC  5139</td></tr>\n",
              "</table></div>"
            ],
            "text/plain": [
              "<Table length=1>\n",
              "  oid           ra                dec          main_id \n",
              "               deg                deg                  \n",
              " int64       float64            float64         object \n",
              "------- ------------------ ------------------ ---------\n",
              "3375707 201.69699999999997 -47.47947222222223 NGC  5139"
            ]
          },
          "execution_count": 2,
          "metadata": {},
          "output_type": "execute_result"
        }
      ],
      "source": [
        "# Fill in the appropriate query here\n",
        "q = \"\"\"\n",
        "SELECT basic.OID,\n",
        "       RA,\n",
        "       DEC,\n",
        "       main_id\n",
        "FROM basic JOIN ident ON oidref = oid\n",
        "WHERE id = 'omega Centauri'\n",
        "\"\"\"\n",
        "\n",
        "result1 = SIMBAD_service.search(q).to_table()\n",
        "print(\"The SIMBAD main identifier for the cluster is {}\".format(result1['main_id'][0]))\n",
        "\n",
        "def totable(q):\n",
        "    query = q\n",
        "    result = SIMBAD_service.search(query).to_table()\n",
        "    return result\n",
        "\n",
        "\n",
        "\n",
        "t = totable(q)\n",
        "t"
      ]
    },
    {
      "cell_type": "code",
      "execution_count": 29,
      "metadata": {},
      "outputs": [
        {
          "name": "stderr",
          "output_type": "stream",
          "text": [
            "/Users/jarugula/opt/miniconda3/envs/astro-env/lib/python3.10/site-packages/pyvo/dal/query.py:322: DALOverflowWarning: Partial result set. Potential causes MAXREC, async storage space, etc.\n",
            "  warn(\"Partial result set. Potential causes MAXREC, async storage space, etc.\",\n"
          ]
        }
      ],
      "source": [
        "q = \"\"\"\n",
        "SELECT basic.OID,\n",
        "       RA,\n",
        "       DEC,\n",
        "       main_id\n",
        "FROM basic JOIN ident ON oidref = oid;\n",
        "LIMIT 10\n",
        "\"\"\"\n",
        "result1 = SIMBAD_service.search(q).to_table()\n"
      ]
    },
    {
      "cell_type": "code",
      "execution_count": 31,
      "metadata": {},
      "outputs": [
        {
          "data": {
            "text/html": [
              "<div><i>Table length=50000</i>\n",
              "<table id=\"table4872277632\" class=\"table-striped table-bordered table-condensed\">\n",
              "<thead><tr><th>oid</th><th>ra</th><th>dec</th><th>main_id</th></tr></thead>\n",
              "<thead><tr><th></th><th>deg</th><th>deg</th><th></th></tr></thead>\n",
              "<thead><tr><th>int64</th><th>float64</th><th>float64</th><th>object</th></tr></thead>\n",
              "<tr><td>1</td><td>314.92644583333333</td><td>37.87465833333333</td><td>BD+37  4133</td></tr>\n",
              "<tr><td>1</td><td>314.92644583333333</td><td>37.87465833333333</td><td>BD+37  4133</td></tr>\n",
              "<tr><td>1</td><td>314.92644583333333</td><td>37.87465833333333</td><td>BD+37  4133</td></tr>\n",
              "<tr><td>1</td><td>314.92644583333333</td><td>37.87465833333333</td><td>BD+37  4133</td></tr>\n",
              "<tr><td>1</td><td>314.92644583333333</td><td>37.87465833333333</td><td>BD+37  4133</td></tr>\n",
              "<tr><td>1</td><td>314.92644583333333</td><td>37.87465833333333</td><td>BD+37  4133</td></tr>\n",
              "<tr><td>1</td><td>314.92644583333333</td><td>37.87465833333333</td><td>BD+37  4133</td></tr>\n",
              "<tr><td>1</td><td>314.92644583333333</td><td>37.87465833333333</td><td>BD+37  4133</td></tr>\n",
              "<tr><td>1</td><td>314.92644583333333</td><td>37.87465833333333</td><td>BD+37  4133</td></tr>\n",
              "<tr><td>...</td><td>...</td><td>...</td><td>...</td></tr>\n",
              "<tr><td>6709</td><td>358.55023213325995</td><td>47.351323179590004</td><td>TYC 3643-2221-1</td></tr>\n",
              "<tr><td>6709</td><td>358.55023213325995</td><td>47.351323179590004</td><td>TYC 3643-2221-1</td></tr>\n",
              "<tr><td>6709</td><td>358.55023213325995</td><td>47.351323179590004</td><td>TYC 3643-2221-1</td></tr>\n",
              "<tr><td>6709</td><td>358.55023213325995</td><td>47.351323179590004</td><td>TYC 3643-2221-1</td></tr>\n",
              "<tr><td>6709</td><td>358.55023213325995</td><td>47.351323179590004</td><td>TYC 3643-2221-1</td></tr>\n",
              "<tr><td>6709</td><td>358.55023213325995</td><td>47.351323179590004</td><td>TYC 3643-2221-1</td></tr>\n",
              "<tr><td>6709</td><td>358.55023213325995</td><td>47.351323179590004</td><td>TYC 3643-2221-1</td></tr>\n",
              "<tr><td>6710</td><td>359.36459284649</td><td>47.390850207570004</td><td>TYC 3643-2237-1</td></tr>\n",
              "<tr><td>6710</td><td>359.36459284649</td><td>47.390850207570004</td><td>TYC 3643-2237-1</td></tr>\n",
              "<tr><td>6710</td><td>359.36459284649</td><td>47.390850207570004</td><td>TYC 3643-2237-1</td></tr>\n",
              "</table></div>"
            ],
            "text/plain": [
              "<Table length=50000>\n",
              " oid          ra                dec             main_id    \n",
              "             deg                deg                        \n",
              "int64      float64            float64            object    \n",
              "----- ------------------ ------------------ ---------------\n",
              "    1 314.92644583333333  37.87465833333333     BD+37  4133\n",
              "    1 314.92644583333333  37.87465833333333     BD+37  4133\n",
              "    1 314.92644583333333  37.87465833333333     BD+37  4133\n",
              "    1 314.92644583333333  37.87465833333333     BD+37  4133\n",
              "    1 314.92644583333333  37.87465833333333     BD+37  4133\n",
              "    1 314.92644583333333  37.87465833333333     BD+37  4133\n",
              "    1 314.92644583333333  37.87465833333333     BD+37  4133\n",
              "    1 314.92644583333333  37.87465833333333     BD+37  4133\n",
              "    1 314.92644583333333  37.87465833333333     BD+37  4133\n",
              "  ...                ...                ...             ...\n",
              " 6709 358.55023213325995 47.351323179590004 TYC 3643-2221-1\n",
              " 6709 358.55023213325995 47.351323179590004 TYC 3643-2221-1\n",
              " 6709 358.55023213325995 47.351323179590004 TYC 3643-2221-1\n",
              " 6709 358.55023213325995 47.351323179590004 TYC 3643-2221-1\n",
              " 6709 358.55023213325995 47.351323179590004 TYC 3643-2221-1\n",
              " 6709 358.55023213325995 47.351323179590004 TYC 3643-2221-1\n",
              " 6709 358.55023213325995 47.351323179590004 TYC 3643-2221-1\n",
              " 6710    359.36459284649 47.390850207570004 TYC 3643-2237-1\n",
              " 6710    359.36459284649 47.390850207570004 TYC 3643-2237-1\n",
              " 6710    359.36459284649 47.390850207570004 TYC 3643-2237-1"
            ]
          },
          "execution_count": 31,
          "metadata": {},
          "output_type": "execute_result"
        }
      ],
      "source": [
        "result1"
      ]
    },
    {
      "cell_type": "markdown",
      "metadata": {
        "id": "7MmEWSJYhiQe"
      },
      "source": [
        "# 2a. Do a bibliography search and find the most recent paper that studied the Cluster\n",
        "> ### Specifically, find the latest paper that has the phrases \"tidal radius\" and \"%omega%Cen\" in its `abstract`.\n",
        "> ### The query should extract all the information necessary to construct a URL to the paper's entry on the ADS (see example in Demo Session 2)."
      ]
    },
    {
      "cell_type": "code",
      "execution_count": 11,
      "metadata": {
        "colab": {
          "base_uri": "https://localhost:8080/"
        },
        "id": "4LthItd5hv1z",
        "outputId": "db077c2c-2044-4563-e875-0bb6cab6eeb7"
      },
      "outputs": [
        {
          "name": "stdout",
          "output_type": "stream",
          "text": [
            "The url is https://ui.adsabs.harvard.edu/abs/2017AJ....153..175C\n"
          ]
        },
        {
          "ename": "DALQueryError",
          "evalue": "Incorrect ADQL query: 1 unresolved identifiers: %omega%Cen% [l.1 c.51 - l.1 c.64]!\n  - Unknown column \"\"%omega%Cen%\"\" !",
          "output_type": "error",
          "traceback": [
            "\u001b[0;31m---------------------------------------------------------------------------\u001b[0m",
            "\u001b[0;31mDALQueryError\u001b[0m                             Traceback (most recent call last)",
            "Cell \u001b[0;32mIn[11], line 19\u001b[0m\n\u001b[1;32m     15\u001b[0m     \u001b[39mreturn\u001b[39;00m result\n\u001b[1;32m     18\u001b[0m querry \u001b[39m=\u001b[39m \u001b[39m'\u001b[39m\u001b[39m\"\u001b[39m\u001b[39m%o\u001b[39;00m\u001b[39mmega\u001b[39m\u001b[39m%\u001b[39m\u001b[39mCen\u001b[39m\u001b[39m%\u001b[39m\u001b[39m\"\u001b[39m\u001b[39m'\u001b[39m\n\u001b[0;32m---> 19\u001b[0m t \u001b[39m=\u001b[39m totable(querry)\n\u001b[1;32m     20\u001b[0m t\n",
            "Cell \u001b[0;32mIn[11], line 14\u001b[0m, in \u001b[0;36mtotable\u001b[0;34m(q)\u001b[0m\n\u001b[1;32m     12\u001b[0m \u001b[39mdef\u001b[39;00m \u001b[39mtotable\u001b[39m(q):\n\u001b[1;32m     13\u001b[0m     query \u001b[39m=\u001b[39m \u001b[39mf\u001b[39m\u001b[39m\"\"\"\u001b[39m\u001b[39mSELECT TOP 1 bibcode FROM ref WHERE abstract LIKE \u001b[39m\u001b[39m{\u001b[39;00mq\u001b[39m}\u001b[39;00m\u001b[39m AND abstract LIKE \u001b[39m\u001b[39m'\u001b[39m\u001b[39m%tidal radius%\u001b[39m\u001b[39m'\u001b[39m\u001b[39m ORDER BY \u001b[39m\u001b[39m\"\u001b[39m\u001b[39myear\u001b[39m\u001b[39m\"\u001b[39m\u001b[39m DESC\u001b[39m\u001b[39m\"\"\"\u001b[39m\n\u001b[0;32m---> 14\u001b[0m     result \u001b[39m=\u001b[39m SIMBAD_service\u001b[39m.\u001b[39;49msearch(query)\u001b[39m.\u001b[39mto_table()\n\u001b[1;32m     15\u001b[0m     \u001b[39mreturn\u001b[39;00m result\n",
            "File \u001b[0;32m~/miniconda3/envs/codeastro/lib/python3.10/site-packages/pyvo/dal/tap.py:257\u001b[0m, in \u001b[0;36mTAPService.run_sync\u001b[0;34m(self, query, language, maxrec, uploads, **keywords)\u001b[0m\n\u001b[1;32m    228\u001b[0m \u001b[39mdef\u001b[39;00m \u001b[39mrun_sync\u001b[39m(\n\u001b[1;32m    229\u001b[0m         \u001b[39mself\u001b[39m, query, language\u001b[39m=\u001b[39m\u001b[39m\"\u001b[39m\u001b[39mADQL\u001b[39m\u001b[39m\"\u001b[39m, maxrec\u001b[39m=\u001b[39m\u001b[39mNone\u001b[39;00m, uploads\u001b[39m=\u001b[39m\u001b[39mNone\u001b[39;00m,\n\u001b[1;32m    230\u001b[0m         \u001b[39m*\u001b[39m\u001b[39m*\u001b[39mkeywords):\n\u001b[1;32m    231\u001b[0m \u001b[39m    \u001b[39m\u001b[39m\"\"\"\u001b[39;00m\n\u001b[1;32m    232\u001b[0m \u001b[39m    runs sync query and returns its result\u001b[39;00m\n\u001b[1;32m    233\u001b[0m \n\u001b[0;32m   (...)\u001b[0m\n\u001b[1;32m    253\u001b[0m \u001b[39m    TAPResults\u001b[39;00m\n\u001b[1;32m    254\u001b[0m \u001b[39m    \"\"\"\u001b[39;00m\n\u001b[1;32m    255\u001b[0m     \u001b[39mreturn\u001b[39;00m \u001b[39mself\u001b[39;49m\u001b[39m.\u001b[39;49mcreate_query(\n\u001b[1;32m    256\u001b[0m         query, language\u001b[39m=\u001b[39;49mlanguage, maxrec\u001b[39m=\u001b[39;49mmaxrec, uploads\u001b[39m=\u001b[39;49muploads,\n\u001b[0;32m--> 257\u001b[0m         \u001b[39m*\u001b[39;49m\u001b[39m*\u001b[39;49mkeywords)\u001b[39m.\u001b[39;49mexecute()\n",
            "File \u001b[0;32m~/miniconda3/envs/codeastro/lib/python3.10/site-packages/pyvo/dal/tap.py:1076\u001b[0m, in \u001b[0;36mTAPQuery.execute\u001b[0;34m(self)\u001b[0m\n\u001b[1;32m   1062\u001b[0m \u001b[39mdef\u001b[39;00m \u001b[39mexecute\u001b[39m(\u001b[39mself\u001b[39m):\n\u001b[1;32m   1063\u001b[0m \u001b[39m    \u001b[39m\u001b[39m\"\"\"\u001b[39;00m\n\u001b[1;32m   1064\u001b[0m \u001b[39m    submit the query and return the results as a TAPResults instance\u001b[39;00m\n\u001b[1;32m   1065\u001b[0m \n\u001b[0;32m   (...)\u001b[0m\n\u001b[1;32m   1074\u001b[0m \u001b[39m       for errors parsing the VOTable response\u001b[39;00m\n\u001b[1;32m   1075\u001b[0m \u001b[39m    \"\"\"\u001b[39;00m\n\u001b[0;32m-> 1076\u001b[0m     \u001b[39mreturn\u001b[39;00m TAPResults(\u001b[39mself\u001b[39;49m\u001b[39m.\u001b[39;49mexecute_votable(), url\u001b[39m=\u001b[39;49m\u001b[39mself\u001b[39;49m\u001b[39m.\u001b[39;49mqueryurl, session\u001b[39m=\u001b[39;49m\u001b[39mself\u001b[39;49m\u001b[39m.\u001b[39;49m_session)\n",
            "File \u001b[0;32m~/miniconda3/envs/codeastro/lib/python3.10/site-packages/pyvo/dal/adhoc.py:111\u001b[0m, in \u001b[0;36mAdhocServiceResultsMixin.__init__\u001b[0;34m(self, votable, url, session)\u001b[0m\n\u001b[1;32m    110\u001b[0m \u001b[39mdef\u001b[39;00m \u001b[39m__init__\u001b[39m(\u001b[39mself\u001b[39m, votable, url\u001b[39m=\u001b[39m\u001b[39mNone\u001b[39;00m, session\u001b[39m=\u001b[39m\u001b[39mNone\u001b[39;00m):\n\u001b[0;32m--> 111\u001b[0m     \u001b[39msuper\u001b[39;49m()\u001b[39m.\u001b[39;49m\u001b[39m__init__\u001b[39;49m(votable, url\u001b[39m=\u001b[39;49murl, session\u001b[39m=\u001b[39;49msession)\n\u001b[1;32m    113\u001b[0m     \u001b[39mself\u001b[39m\u001b[39m.\u001b[39m_adhocservices \u001b[39m=\u001b[39m \u001b[39mlist\u001b[39m(\n\u001b[1;32m    114\u001b[0m         resource \u001b[39mfor\u001b[39;00m resource \u001b[39min\u001b[39;00m votable\u001b[39m.\u001b[39mresources\n\u001b[1;32m    115\u001b[0m         \u001b[39mif\u001b[39;00m resource\u001b[39m.\u001b[39mtype \u001b[39m==\u001b[39m \u001b[39m\"\u001b[39m\u001b[39mmeta\u001b[39m\u001b[39m\"\u001b[39m \u001b[39mand\u001b[39;00m resource\u001b[39m.\u001b[39mutype \u001b[39m==\u001b[39m \u001b[39m\"\u001b[39m\u001b[39madhoc:service\u001b[39m\u001b[39m\"\u001b[39m\n\u001b[1;32m    116\u001b[0m     )\n",
            "File \u001b[0;32m~/miniconda3/envs/codeastro/lib/python3.10/site-packages/pyvo/dal/query.py:319\u001b[0m, in \u001b[0;36mDALResults.__init__\u001b[0;34m(self, votable, url, session)\u001b[0m\n\u001b[1;32m    317\u001b[0m \u001b[39mself\u001b[39m\u001b[39m.\u001b[39m_status \u001b[39m=\u001b[39m \u001b[39mself\u001b[39m\u001b[39m.\u001b[39m_findstatus(votable)\n\u001b[1;32m    318\u001b[0m \u001b[39mif\u001b[39;00m \u001b[39mself\u001b[39m\u001b[39m.\u001b[39m_status[\u001b[39m0\u001b[39m]\u001b[39m.\u001b[39mlower() \u001b[39mnot\u001b[39;00m \u001b[39min\u001b[39;00m (\u001b[39m\"\u001b[39m\u001b[39mok\u001b[39m\u001b[39m\"\u001b[39m, \u001b[39m\"\u001b[39m\u001b[39moverflow\u001b[39m\u001b[39m\"\u001b[39m):\n\u001b[0;32m--> 319\u001b[0m     \u001b[39mraise\u001b[39;00m DALQueryError(\u001b[39mself\u001b[39m\u001b[39m.\u001b[39m_status[\u001b[39m1\u001b[39m], \u001b[39mself\u001b[39m\u001b[39m.\u001b[39m_status[\u001b[39m0\u001b[39m], url)\n\u001b[1;32m    321\u001b[0m \u001b[39mif\u001b[39;00m \u001b[39mself\u001b[39m\u001b[39m.\u001b[39m_status[\u001b[39m0\u001b[39m]\u001b[39m.\u001b[39mlower() \u001b[39m==\u001b[39m \u001b[39m\"\u001b[39m\u001b[39moverflow\u001b[39m\u001b[39m\"\u001b[39m:\n\u001b[1;32m    322\u001b[0m     warn(\u001b[39m\"\u001b[39m\u001b[39mPartial result set. Potential causes MAXREC, async storage space, etc.\u001b[39m\u001b[39m\"\u001b[39m,\n\u001b[1;32m    323\u001b[0m          category\u001b[39m=\u001b[39mDALOverflowWarning)\n",
            "\u001b[0;31mDALQueryError\u001b[0m: Incorrect ADQL query: 1 unresolved identifiers: %omega%Cen% [l.1 c.51 - l.1 c.64]!\n  - Unknown column \"\"%omega%Cen%\"\" !"
          ]
        }
      ],
      "source": [
        "# Fill in the appropriate query here\n",
        "query = \"\"\"\n",
        "SELECT TOP 1 bibcode\n",
        "FROM ref\n",
        "WHERE abstract LIKE '%omega%Cen%' AND abstract LIKE '%tidal radius%'\n",
        "ORDER BY \"year\" DESC\n",
        "\"\"\"\n",
        "\n",
        "result2 = SIMBAD_service.search(query).to_table()\n",
        "print(\"The url is https://ui.adsabs.harvard.edu/abs/{}\".format(result2['bibcode'][0]))\n"
      ]
    },
    {
      "cell_type": "code",
      "execution_count": null,
      "metadata": {},
      "outputs": [],
      "source": [
        "querry = []"
      ]
    },
    {
      "cell_type": "markdown",
      "metadata": {
        "id": "g3RP49PAiYbs"
      },
      "source": [
        "# 2b. Finding the tidal radius (approximate angular size) of the cluster\n",
        "> ### Follow the URL to the PDF of the most recent paper. Consult Table 1 of the paper. Here, you will find the value of the tidal radius of the cluster in arcmin.\n",
        "> ### Change the value of the variable `radius_arcmin` to the appropriate value below\n",
        "> ### If you couldn't find the tidal radius, let `` be set to 60 arcmin as below."
      ]
    },
    {
      "cell_type": "code",
      "execution_count": 4,
      "metadata": {
        "id": "MXRk64RCiWrh"
      },
      "outputs": [],
      "source": [
        "#Note that the step of finding the tidal radius is MANUAL! This is the only manual step in the exercises.\n",
        "radius_arcmin = 57.03 # Change this to the radius you find it in Table 1 of the paper\n",
        "radius_deg = str(radius_arcmin / 60.)"
      ]
    },
    {
      "cell_type": "markdown",
      "metadata": {
        "id": "g11B4owxjNTW"
      },
      "source": [
        "# 3. Perform a cone search for C-, M-, or K-type stars within `radius_deg` of the cluster centre.\n",
        "> ### Columns to retrieve: `oid`, `main_id`, and `sp_type` (spectral type of all the stars within the matching radius).\n",
        "> ### Hint: check that stars are within the radius using `CONTAINS`, AND restrict their spectral types with `(sp_type LIKE 'K%' or sp_type LIKE 'C%' or sp_type LIKE 'M%')`\n",
        ">\n",
        "> ### How many sources are in your final table?"
      ]
    },
    {
      "cell_type": "code",
      "execution_count": 5,
      "metadata": {
        "colab": {
          "base_uri": "https://localhost:8080/"
        },
        "id": "FeZHqbjSjK9J",
        "outputId": "91a5bd35-ac97-47b9-d71b-c32c2b5a6ca5"
      },
      "outputs": [
        {
          "name": "stderr",
          "output_type": "stream",
          "text": [
            "/home/rickycow/miniconda3/envs/codeastro/lib/python3.10/site-packages/pyvo/dal/query.py:322: DALOverflowWarning: Partial result set. Potential causes MAXREC, async storage space, etc.\n",
            "  warn(\"Partial result set. Potential causes MAXREC, async storage space, etc.\",\n"
          ]
        },
        {
          "data": {
            "text/plain": [
              "50000"
            ]
          },
          "execution_count": 5,
          "metadata": {},
          "output_type": "execute_result"
        }
      ],
      "source": [
        "# Fill in the appropriate query here\n",
        "query = \"\"\"\n",
        "SELECT oid, main_id, sp_type\n",
        "FROM basic\n",
        "WHERE CONTAINS(POINT('ICRS', RA, DEC), CIRCLE('ICRS', 201.697, -47.47947222222223, \"\"\" + radius_deg + \"\"\")) = 1\n",
        "AND sp_type LIKE 'K%' OR sp_type LIKE 'C%' OR sp_type LIKE 'M%'\n",
        "\"\"\"\n",
        "\n",
        "result3 = SIMBAD_service.search(query).to_table()\n",
        "# write code below to tell me how many sources there are in result3\n",
        "len(result3)"
      ]
    },
    {
      "cell_type": "markdown",
      "metadata": {
        "id": "rRCBzvUKlPJF"
      },
      "source": [
        "# 4. Find the 2MASS counterparts, if available, for each source\n",
        "> ### Check SIMBAD's `ident` table to see if the `oid` corresponding to each row in `result3` has a counterpart in the 2MASS All-Sky Point Source Catalogue.\n",
        "> ### Hint: for each `oid`, find the row in `ident` such that `ident.id` starts WITH '2MASS J'\n",
        ">\n",
        "> ### How many sources from `result3` do NOT have 2MASS counterparts?"
      ]
    },
    {
      "cell_type": "code",
      "execution_count": 6,
      "metadata": {
        "id": "sbDO5vnhlQWA"
      },
      "outputs": [
        {
          "ename": "NameError",
          "evalue": "name 'results3' is not defined",
          "output_type": "error",
          "traceback": [
            "\u001b[0;31m---------------------------------------------------------------------------\u001b[0m",
            "\u001b[0;31mNameError\u001b[0m                                 Traceback (most recent call last)",
            "Cell \u001b[0;32mIn[6], line 10\u001b[0m\n\u001b[1;32m      7\u001b[0m \u001b[39m# results3 is now uploaded to the SIMBAD TAP server as `mytable`, and it should\u001b[39;00m\n\u001b[1;32m      8\u001b[0m \u001b[39m# be used in the query above.\u001b[39;00m\n\u001b[1;32m      9\u001b[0m votable_object \u001b[39m=\u001b[39m BytesIO()\n\u001b[0;32m---> 10\u001b[0m votable\u001b[39m.\u001b[39mwriteto(votable\u001b[39m.\u001b[39mfrom_table(results3), votable_object)\n\u001b[1;32m     11\u001b[0m votable_object\u001b[39m.\u001b[39mseek(\u001b[39m0\u001b[39m)\n\u001b[1;32m     13\u001b[0m result4 \u001b[39m=\u001b[39m SIMBAD_service\u001b[39m.\u001b[39msearch(query, uploads \u001b[39m=\u001b[39m {\u001b[39m'\u001b[39m\u001b[39mmytable\u001b[39m\u001b[39m'\u001b[39m: votable_object})\u001b[39m.\u001b[39mto_table()\n",
            "\u001b[0;31mNameError\u001b[0m: name 'results3' is not defined"
          ]
        }
      ],
      "source": [
        "# Fill in the appropriate query here\n",
        "# Collect the 2MASS identifiers into a column named `TMASS_ID`\n",
        "query = \"\"\"\n",
        "\n",
        "\"\"\"\n",
        "\n",
        "# results3 is now uploaded to the SIMBAD TAP server as `mytable`, and it should\n",
        "# be used in the query above.\n",
        "votable_object = BytesIO()\n",
        "votable.writeto(votable.from_table(results3), votable_object)\n",
        "votable_object.seek(0)\n",
        "\n",
        "result4 = SIMBAD_service.search(query, uploads = {'mytable': votable_object}).to_table()\n",
        "\n",
        "# write code below to tell me how many sources from `results3` don't have 2MASS counterparts in `results4`.\n",
        "\n",
        "# Extra line: modify the 2MASS identifier column in `results4` to remove the \"2MASS J\" prefix\n",
        "#             This is done to correctly match the format in the 2MASS point-source catalogue table (see next cell)\n",
        "result4['TMASS_ID'] = [rr['TMASS_ID'].replace('2MASS J', '') for rr in result4]"
      ]
    },
    {
      "cell_type": "markdown",
      "metadata": {
        "id": "vAJHvB6hoBts"
      },
      "source": [
        "# 5. Obtain the 2MASS photometry from VizieR\n",
        "> ### Select the columns `magJ` and `magK` from the 2MASS point-source catalogue on VizieR (table ID: `'II/246/out'`)\n",
        "> ### Hint: for each `oid`, find the row in `'II/246/out'` such that `TMASS_ID` from `results4` is equal to `\"2MASS\"` in `'II/246/out'`"
      ]
    },
    {
      "cell_type": "code",
      "execution_count": null,
      "metadata": {
        "id": "OBz0BLBNoDSh"
      },
      "outputs": [],
      "source": [
        "Vizier_table_id = 'II/246/out'\n",
        "# Fill in the appropriate query here\n",
        "query = \"\"\"\n",
        "\n",
        "\"\"\"\n",
        "\n",
        "# results3 is now uploaded to the SIMBAD TAP server as `mytable`, and it should\n",
        "# be used in the query above.\n",
        "votable_object = BytesIO()\n",
        "votable.writeto(votable.from_table(results4), votable_object)\n",
        "votable_object.seek(0)\n",
        "\n",
        "result5 = Vizier_service.search(query, uploads = {'mytable': votable_object}).to_table()\n",
        "\n",
        "# write code below to plot a K vs J-K colour-magnitude diagram showing all the sources in result5.\n",
        "\n",
        "\n"
      ]
    }
  ],
  "metadata": {
    "colab": {
      "provenance": []
    },
    "kernelspec": {
      "display_name": "Python 3.10.6 ('astro-env')",
      "language": "python",
      "name": "python3"
    },
    "language_info": {
      "codemirror_mode": {
        "name": "ipython",
        "version": 3
      },
      "file_extension": ".py",
      "mimetype": "text/x-python",
      "name": "python",
      "nbconvert_exporter": "python",
      "pygments_lexer": "ipython3",
      "version": "3.10.6"
    },
    "vscode": {
      "interpreter": {
        "hash": "1f8e6c097b2fd3aa92942e2f09090a60d14bd573948ba0d2cfac6287ab5bd57b"
      }
    }
  },
  "nbformat": 4,
  "nbformat_minor": 0
}
